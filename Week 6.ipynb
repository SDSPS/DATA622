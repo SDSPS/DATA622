{
 "cells": [
  {
   "cell_type": "code",
   "execution_count": 230,
   "metadata": {
    "collapsed": false
   },
   "outputs": [],
   "source": [
    "# Package imports\n",
    "import matplotlib.pyplot as plt\n",
    "import theano\n",
    "import theano.tensor as T\n",
    "from theano import tensor as T\n",
    "from theano import pp\n",
    "from theano import function\n",
    "import numpy as np\n",
    "import sklearn\n",
    "import sklearn.datasets\n",
    "import sklearn.linear_model\n",
    "import matplotlib\n",
    "from sklearn.metrics import mean_absolute_error\n",
    "from sklearn.metrics import mean_squared_error"
   ]
  },
  {
   "cell_type": "code",
   "execution_count": 231,
   "metadata": {
    "collapsed": false
   },
   "outputs": [],
   "source": [
    "# Generate a dataset and plot it\n",
    "#np.random.seed(0)\n",
    "#X, y = sklearn.datasets.make_moons(200, noise=0.20)\n",
    "trX=np.linspace(1,10,100)\n",
    "trY=2 * trX + np.random.randn(*trX.shape)*0.33\n",
    "#trX=np.asarray([3,4,5,6.1,6.3,2.88,8.89,5.62,6.9,1.97,8.22,9.81,4.83,7.27,5.14,3.08])\n",
    "#trX=[1,1,1,1,1,1,1,1,1,1,2,2,2,2,2,2,2,2,2,2,3,3,3,3,3,3,3,3,3,3,4,4,4,4,4,4,4,4,4,4,5,5,5,5,5,5,5,5,5,5,6,6,6,6,6,6,6,6,6,6,7,7,7,7,7,7,7,7,7,7,8,8,8,8,8,8,8,8,8,8,9,9,9,9,9,9,9,9,9,9,10,10,10,10,10,10,10,10,10,10]\n",
    "#trX=[[1,1],[1,2],[1,3],[1,4],[1,5],[1,6],[1,7],[1,8],[1,9],[1,10],[2,1],[2,2],[2,3],[2,4],[2,5],[2,6],[2,7],[2,8],[2,9],[2,10],[3,1],[3,2],[3,3],[3,4],[3,5],[3,6],[3,7],[3,8],[3,9],[3,10],[4,1],[4,2],[4,3],[4,4],[4,5],[4,6],[4,7],[4,8],[4,9],[4,10],[5,1],[5,2],[5,3],[5,4],[5,5],[5,6],[5,7],[5,8],[5,9],[5,10],[6,1],[6,2],[6,3],[6,4],[6,5],[6,6],[6,7],[6,8],[6,9],[6,10],[7,1],[7,2],[7,3],[7,4],[7,5],[7,6],[7,7],[7,8],[7,9],[7,10],[8,1],[8,2],[8,3],[8,4],[8,5],[8,6],[8,7],[8,8],[8,9],[8,10],[9,1],[9,2],[9,3],[9,4],[9,5],[9,6],[9,7],[9,8],[9,9],[9,10],[10,1],[10,2],[10,3],[10,4],[10,5],[10,6],[10,7],[10,8],[10,9],[10,10]]\n",
    "#outputs=[0,-9,-24,-45,-72,-105,-144,-189,-240,-297,6,-3,\t-18,-39,-66,-99,-138,-183,-234,-291,16,7,-8,-29,-56,-89,-128,-173,-224,-281,30,21,6,-15,-42,-75,-114,-159,-210,-267,48,39,24,3,-24,-57,-96,-141,-192,-249,70,61,46,25,-2,-35,-74,-119,-170,-227,96,87,72,51,24,-9,-48,-93,-144,-201,126,117,102,81,54,21,-18,-63,-114,-171,160,151,136,115,88,55,16,-29,-80,-137,198,189,174,153,126,93,54,9,-42,-99]"
   ]
  },
  {
   "cell_type": "code",
   "execution_count": 232,
   "metadata": {
    "collapsed": true
   },
   "outputs": [],
   "source": [
    "#trX = np.asarray([3,4,5,6.1,6.3,2.88,8.89,5.62,6.9,1.97,8.22,9.81,4.83,7.27,5.14,3.08])\n",
    "#trY = np.asarray([0.9,1.6,1.9,2.9,1.54,1.43,3.06,2.36,2.3,1.11,2.57,3.15,1.5,2.64,2.20,1.21])"
   ]
  },
  {
   "cell_type": "code",
   "execution_count": 240,
   "metadata": {
    "collapsed": false
   },
   "outputs": [
    {
     "name": "stdout",
     "output_type": "stream",
     "text": [
      "[  1.           1.09090909   1.18181818   1.27272727   1.36363636\n",
      "   1.45454545   1.54545455   1.63636364   1.72727273   1.81818182\n",
      "   1.90909091   2.           2.09090909   2.18181818   2.27272727\n",
      "   2.36363636   2.45454545   2.54545455   2.63636364   2.72727273\n",
      "   2.81818182   2.90909091   3.           3.09090909   3.18181818\n",
      "   3.27272727   3.36363636   3.45454545   3.54545455   3.63636364\n",
      "   3.72727273   3.81818182   3.90909091   4.           4.09090909\n",
      "   4.18181818   4.27272727   4.36363636   4.45454545   4.54545455\n",
      "   4.63636364   4.72727273   4.81818182   4.90909091   5.           5.09090909\n",
      "   5.18181818   5.27272727   5.36363636   5.45454545   5.54545455\n",
      "   5.63636364   5.72727273   5.81818182   5.90909091   6.           6.09090909\n",
      "   6.18181818   6.27272727   6.36363636   6.45454545   6.54545455\n",
      "   6.63636364   6.72727273   6.81818182   6.90909091   7.           7.09090909\n",
      "   7.18181818   7.27272727   7.36363636   7.45454545   7.54545455\n",
      "   7.63636364   7.72727273   7.81818182   7.90909091   8.           8.09090909\n",
      "   8.18181818   8.27272727   8.36363636   8.45454545   8.54545455\n",
      "   8.63636364   8.72727273   8.81818182   8.90909091   9.           9.09090909\n",
      "   9.18181818   9.27272727   9.36363636   9.45454545   9.54545455\n",
      "   9.63636364   9.72727273   9.81818182   9.90909091  10.        ]\n",
      "[  2.28440198   2.18234393   2.05882661   2.48302646   2.15943994\n",
      "   3.28259723   2.98448861   3.48229168   3.09850667   3.47243897\n",
      "   4.06665912   3.53751047   4.72676559   4.23241829   4.082047     5.0456798\n",
      "   5.25351091   4.88745052   4.91841608   5.48512821   5.28775133\n",
      "   5.90169283   6.23306924   6.28132118   6.38662757   6.23983233\n",
      "   6.64644326   6.31818675   6.79420094   7.01979365   7.35073638\n",
      "   7.19116208   7.68396376   8.11885754   8.00035666   9.13022328\n",
      "   8.17339406   9.29133327   8.65502602   9.45970506   9.88623397\n",
      "   9.81583487   9.08577426  10.79011375  10.16958873   9.88210592\n",
      "  10.71660418  11.25406213  10.44143768  10.38467909  11.72015283\n",
      "  11.00579822  11.14710246  12.00765845  11.30919914  12.45051927\n",
      "  11.90330028  12.35378469  12.84406394  12.78653454  12.86655524\n",
      "  13.20753543  13.05794367  13.76266979  13.6250073   14.01895395\n",
      "  13.67454861  13.75708661  14.48197289  14.05473872  14.9570359\n",
      "  14.57735331  14.68557663  15.24035099  15.44848991  15.66528277\n",
      "  15.46080401  15.30858803  16.78437561  15.83564352  16.46132807\n",
      "  16.03158435  16.8478958   17.56510447  17.55390926  17.08803154\n",
      "  17.43122644  17.66687474  17.5968013   17.85117996  18.65933526\n",
      "  18.80154052  18.80852708  18.78953042  18.81569128  19.02771636\n",
      "  19.68484589  19.76314508  20.02179022  20.0497239 ]\n"
     ]
    }
   ],
   "source": [
    "print(trX)\n",
    "print(trY)\n"
   ]
  },
  {
   "cell_type": "code",
   "execution_count": 234,
   "metadata": {
    "collapsed": false
   },
   "outputs": [],
   "source": [
    "X= T.scalar()\n",
    "Y = T.scalar()\n",
    "#z=2*x**2-3*y**2+1"
   ]
  },
  {
   "cell_type": "code",
   "execution_count": 235,
   "metadata": {
    "collapsed": false
   },
   "outputs": [],
   "source": [
    "def model ((X,Y),w):\n",
    "    return (2*X**2-3*Y**2+1)\n",
    "#multiply=theano.function([x, y], z)"
   ]
  },
  {
   "cell_type": "code",
   "execution_count": 236,
   "metadata": {
    "collapsed": false
   },
   "outputs": [],
   "source": [
    "#f = theano.function([x, y],z)\n",
    "\n",
    "w=theano.shared(np.asarray(0.,dtype=theano.config.floatX))\n",
    "y=model((X,Y),w)"
   ]
  },
  {
   "cell_type": "code",
   "execution_count": 237,
   "metadata": {
    "collapsed": false
   },
   "outputs": [],
   "source": [
    "L=T.mean(T.sqr(y-Y))"
   ]
  },
  {
   "cell_type": "code",
   "execution_count": 238,
   "metadata": {
    "collapsed": false
   },
   "outputs": [],
   "source": [
    "gradient=T.grad(cost=L, wrt=(X,Y))\n"
   ]
  },
  {
   "cell_type": "code",
   "execution_count": 239,
   "metadata": {
    "collapsed": false
   },
   "outputs": [
    {
     "ename": "TypeError",
     "evalue": "can't multiply sequence by non-int of type 'float'",
     "output_type": "error",
     "traceback": [
      "\u001b[1;31m---------------------------------------------------------------------------\u001b[0m",
      "\u001b[1;31mTypeError\u001b[0m                                 Traceback (most recent call last)",
      "\u001b[1;32m<ipython-input-239-5bef84e99857>\u001b[0m in \u001b[0;36m<module>\u001b[1;34m()\u001b[0m\n\u001b[1;32m----> 1\u001b[1;33m \u001b[0mupdates\u001b[0m\u001b[1;33m=\u001b[0m\u001b[1;33m[\u001b[0m\u001b[1;33m[\u001b[0m\u001b[0mw\u001b[0m\u001b[1;33m,\u001b[0m\u001b[0mw\u001b[0m\u001b[1;33m-\u001b[0m\u001b[0mgradient\u001b[0m\u001b[1;33m*\u001b[0m\u001b[1;36m0.01\u001b[0m\u001b[1;33m]\u001b[0m\u001b[1;33m]\u001b[0m\u001b[1;33m\u001b[0m\u001b[0m\n\u001b[0m",
      "\u001b[1;31mTypeError\u001b[0m: can't multiply sequence by non-int of type 'float'"
     ]
    }
   ],
   "source": [
    "updates=[[w,w-gradient*0.01]]"
   ]
  },
  {
   "cell_type": "code",
   "execution_count": 154,
   "metadata": {
    "collapsed": false
   },
   "outputs": [
    {
     "ename": "NameError",
     "evalue": "name 'updates' is not defined",
     "output_type": "error",
     "traceback": [
      "\u001b[1;31m---------------------------------------------------------------------------\u001b[0m",
      "\u001b[1;31mNameError\u001b[0m                                 Traceback (most recent call last)",
      "\u001b[1;32m<ipython-input-154-a3e2bf9ee142>\u001b[0m in \u001b[0;36m<module>\u001b[1;34m()\u001b[0m\n\u001b[1;32m----> 1\u001b[1;33m \u001b[0mtrain\u001b[0m\u001b[1;33m=\u001b[0m\u001b[0mtheano\u001b[0m\u001b[1;33m.\u001b[0m\u001b[0mfunction\u001b[0m\u001b[1;33m(\u001b[0m\u001b[0minputs\u001b[0m\u001b[1;33m=\u001b[0m\u001b[1;33m[\u001b[0m\u001b[0mX\u001b[0m\u001b[1;33m,\u001b[0m\u001b[0mY\u001b[0m\u001b[1;33m]\u001b[0m\u001b[1;33m,\u001b[0m\u001b[0moutputs\u001b[0m\u001b[1;33m=\u001b[0m\u001b[0mcost\u001b[0m\u001b[1;33m,\u001b[0m\u001b[0mupdates\u001b[0m\u001b[1;33m=\u001b[0m\u001b[0mupdates\u001b[0m\u001b[1;33m,\u001b[0m\u001b[0mallow_input_downcast\u001b[0m\u001b[1;33m=\u001b[0m\u001b[0mTrue\u001b[0m\u001b[1;33m)\u001b[0m\u001b[1;33m\u001b[0m\u001b[0m\n\u001b[0m",
      "\u001b[1;31mNameError\u001b[0m: name 'updates' is not defined"
     ]
    }
   ],
   "source": [
    "train=theano.function(inputs=[X,Y],outputs=cost,updates=updates,allow_input_downcast=True)"
   ]
  },
  {
   "cell_type": "code",
   "execution_count": 32,
   "metadata": {
    "collapsed": false
   },
   "outputs": [
    {
     "ename": "NameError",
     "evalue": "name 'train' is not defined",
     "output_type": "error",
     "traceback": [
      "\u001b[1;31m---------------------------------------------------------------------------\u001b[0m",
      "\u001b[1;31mNameError\u001b[0m                                 Traceback (most recent call last)",
      "\u001b[1;32m<ipython-input-32-43bb76f38cfe>\u001b[0m in \u001b[0;36m<module>\u001b[1;34m()\u001b[0m\n\u001b[0;32m      2\u001b[0m \u001b[0mcost\u001b[0m \u001b[1;33m=\u001b[0m \u001b[1;33m[\u001b[0m\u001b[1;33m]\u001b[0m\u001b[1;33m\u001b[0m\u001b[0m\n\u001b[0;32m      3\u001b[0m \u001b[1;32mfor\u001b[0m \u001b[0miteration\u001b[0m \u001b[1;32min\u001b[0m \u001b[0mrange\u001b[0m\u001b[1;33m(\u001b[0m\u001b[1;36m30000\u001b[0m\u001b[1;33m)\u001b[0m\u001b[1;33m:\u001b[0m\u001b[1;33m\u001b[0m\u001b[0m\n\u001b[1;32m----> 4\u001b[1;33m     \u001b[0mpred\u001b[0m\u001b[1;33m,\u001b[0m \u001b[0mcost_iter\u001b[0m \u001b[1;33m=\u001b[0m \u001b[0mtrain\u001b[0m\u001b[1;33m(\u001b[0m\u001b[0minputs\u001b[0m\u001b[1;33m,\u001b[0m \u001b[0moutputs\u001b[0m\u001b[1;33m)\u001b[0m\u001b[1;33m\u001b[0m\u001b[0m\n\u001b[0m\u001b[0;32m      5\u001b[0m     \u001b[0mcost\u001b[0m\u001b[1;33m.\u001b[0m\u001b[0mappend\u001b[0m\u001b[1;33m(\u001b[0m\u001b[0mcost_iter\u001b[0m\u001b[1;33m)\u001b[0m\u001b[1;33m\u001b[0m\u001b[0m\n",
      "\u001b[1;31mNameError\u001b[0m: name 'train' is not defined"
     ]
    }
   ],
   "source": [
    "#Iterate through all inputs and find outputs:\n",
    "for i in range(30000):\n",
    "    for x,y in zip(trX,trY):\n",
    "        train(x,y)"
   ]
  },
  {
   "cell_type": "code",
   "execution_count": null,
   "metadata": {
    "collapsed": true
   },
   "outputs": [],
   "source": []
  }
 ],
 "metadata": {
  "kernelspec": {
   "display_name": "Python 2",
   "language": "python",
   "name": "python2"
  },
  "language_info": {
   "codemirror_mode": {
    "name": "ipython",
    "version": 2
   },
   "file_extension": ".py",
   "mimetype": "text/x-python",
   "name": "python",
   "nbconvert_exporter": "python",
   "pygments_lexer": "ipython2",
   "version": "2.7.6"
  }
 },
 "nbformat": 4,
 "nbformat_minor": 0
}
