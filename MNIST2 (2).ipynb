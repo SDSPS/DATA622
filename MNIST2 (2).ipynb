{
 "cells": [
  {
   "cell_type": "code",
   "execution_count": 1,
   "metadata": {
    "collapsed": false
   },
   "outputs": [
    {
     "name": "stderr",
     "output_type": "stream",
     "text": [
      "Using Theano backend.\n",
      "C:\\Users\\dundeva\\Anaconda2\\lib\\site-packages\\keras\\backend\\theano_backend.py:1546: UserWarning: DEPRECATION: the 'ds' parameter is not going to exist anymore as it is going to be replaced by the parameter 'ws'.\n",
      "  mode='max')\n",
      "C:\\Users\\dundeva\\Anaconda2\\lib\\site-packages\\keras\\backend\\theano_backend.py:1546: UserWarning: DEPRECATION: the 'st' parameter is not going to exist anymore as it is going to be replaced by the parameter 'stride'.\n",
      "  mode='max')\n",
      "C:\\Users\\dundeva\\Anaconda2\\lib\\site-packages\\keras\\backend\\theano_backend.py:1546: UserWarning: DEPRECATION: the 'padding' parameter is not going to exist anymore as it is going to be replaced by the parameter 'pad'.\n",
      "  mode='max')\n"
     ]
    },
    {
     "name": "stdout",
     "output_type": "stream",
     "text": [
      "Train on 60000 samples, validate on 10000 samples\n",
      "Epoch 1/10\n",
      "94s - loss: 0.4062 - acc: 0.8733 - val_loss: 0.1003 - val_acc: 0.9695\n",
      "Epoch 2/10\n",
      "99s - loss: 0.1334 - acc: 0.9586 - val_loss: 0.0758 - val_acc: 0.9759\n",
      "Epoch 3/10\n",
      "111s - loss: 0.1035 - acc: 0.9674 - val_loss: 0.0575 - val_acc: 0.9811\n",
      "Epoch 4/10\n",
      "114s - loss: 0.0871 - acc: 0.9720 - val_loss: 0.0522 - val_acc: 0.9825\n",
      "Epoch 5/10\n",
      "101s - loss: 0.0773 - acc: 0.9756 - val_loss: 0.0479 - val_acc: 0.9830\n",
      "Epoch 6/10\n",
      "313s - loss: 0.0707 - acc: 0.9776 - val_loss: 0.0431 - val_acc: 0.9849\n",
      "Epoch 7/10\n",
      "155s - loss: 0.0641 - acc: 0.9801 - val_loss: 0.0378 - val_acc: 0.9875\n",
      "Epoch 8/10\n",
      "103s - loss: 0.0598 - acc: 0.9818 - val_loss: 0.0370 - val_acc: 0.9869\n",
      "Epoch 9/10\n",
      "129s - loss: 0.0563 - acc: 0.9824 - val_loss: 0.0342 - val_acc: 0.9883\n",
      "Epoch 10/10\n",
      "104s - loss: 0.0543 - acc: 0.9826 - val_loss: 0.0357 - val_acc: 0.9871\n",
      "('Test score:', 0.035676803012087477)\n",
      "('Test accuracy:', 0.98709999999999998)\n",
      "Baseline Error: 1.29%\n"
     ]
    }
   ],
   "source": [
    "import numpy\n",
    "from keras.datasets import mnist\n",
    "from keras.models import Sequential\n",
    "from keras.layers import Dense\n",
    "from keras.layers import Dropout\n",
    "from keras.layers import Flatten\n",
    "from keras.layers.convolutional import Convolution2D\n",
    "from keras.layers.convolutional import MaxPooling2D\n",
    "from keras.utils import np_utils\n",
    "from keras import backend as K\n",
    "K.set_image_dim_ordering('th')\n",
    "\n",
    "# set random seed for reproducibility\n",
    "seed = 7\n",
    "numpy.random.seed(seed)\n",
    "\n",
    "# load data\n",
    "(X_train, y_train), (X_test, y_test) = mnist.load_data()\n",
    "\n",
    "# reshape to be [samples][pixels][width][height]\n",
    "X_train = X_train.reshape(X_train.shape[0], 1, 28, 28).astype('float32')\n",
    "X_test = X_test.reshape(X_test.shape[0], 1, 28, 28).astype('float32')\n",
    "\n",
    "# normalize inputs from 0-255 to 0-1\n",
    "X_train = X_train / 255\n",
    "X_test = X_test / 255\n",
    "\n",
    "# convert class vectors to binary class matrices# one hot encode outputs\n",
    "y_train = np_utils.to_categorical(y_train)\n",
    "y_test = np_utils.to_categorical(y_test)\n",
    "num_classes = y_test.shape[1]\n",
    "\n",
    "def larger_model():\n",
    "\t# create model\n",
    "\tmodel = Sequential()\n",
    "\tmodel.add(Convolution2D(32, 3, 3, border_mode='valid', input_shape=(1, 28, 28), activation='relu'))\n",
    "\tmodel.add(MaxPooling2D(pool_size=(2, 2)))\n",
    "\tmodel.add(Convolution2D(15, 3, 3, activation='relu'))\n",
    "\tmodel.add(MaxPooling2D(pool_size=(2, 2)))\n",
    "\tmodel.add(Dropout(0.25))\n",
    "\tmodel.add(Flatten())\n",
    "\tmodel.add(Dense(128, activation='relu'))\n",
    "\tmodel.add(Dense(50, activation='relu'))\n",
    "\tmodel.add(Dense(num_classes, activation='softmax'))\n",
    "\t# Compile model\n",
    "\tmodel.compile(loss='categorical_crossentropy', optimizer='adadelta', metrics=['accuracy'])\n",
    "\treturn model\n",
    "\n",
    "# build the model\n",
    "model = larger_model()\n",
    "\n",
    "# Fit the model\n",
    "model.fit(X_train, y_train, validation_data=(X_test, y_test), nb_epoch=10, batch_size=128, verbose=2)\n",
    "\n",
    "# Final evaluation of the model\n",
    "scores = model.evaluate(X_test, y_test, verbose=0)\n",
    "\n",
    "print('Test score:', scores[0])\n",
    "print('Test accuracy:', scores[1])\n",
    "print(\"Baseline Error: %.2f%%\" % (100-scores[1]*100))"
   ]
  },
  {
   "cell_type": "code",
   "execution_count": null,
   "metadata": {
    "collapsed": true
   },
   "outputs": [],
   "source": []
  }
 ],
 "metadata": {
  "anaconda-cloud": {},
  "kernelspec": {
   "display_name": "Python [default]",
   "language": "python",
   "name": "python2"
  },
  "language_info": {
   "codemirror_mode": {
    "name": "ipython",
    "version": 2
   },
   "file_extension": ".py",
   "mimetype": "text/x-python",
   "name": "python",
   "nbconvert_exporter": "python",
   "pygments_lexer": "ipython2",
   "version": "2.7.12"
  }
 },
 "nbformat": 4,
 "nbformat_minor": 1
}
